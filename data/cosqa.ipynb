{
 "cells": [
  {
   "cell_type": "markdown",
   "id": "a2ac0c74",
   "metadata": {},
   "source": [
    "# CoSQA dataset inspection\n",
    "\n",
    "Looking for the first time in the data set, I decided to load it using pandas, data_loader didn't work for some reason when I tried. I was following the instructions on HuggingFace: https://huggingface.co/datasets/gonglinyuan/CoSQA \n",
    "I noticed that there are only trianing and validation (3% of all data) datasets. I decided to use validation dataset as test datasset for later fine tuning and to divide training dataset into train and val data (10% of initial training dataset).\n",
    "Smaller then usual test and val datasets are chosen because in embedding-based systems, performance doesn’t fluctuate as violently with test size as in classification — because the task is to evaluate sets of queries with multiple candidates, not on independent samples."
   ]
  },
  {
   "cell_type": "code",
   "execution_count": 1,
   "id": "cc26b425",
   "metadata": {},
   "outputs": [
    {
     "name": "stdout",
     "output_type": "stream",
     "text": [
      "Train and validation size: (20000, 6) | Test size: (604, 6)\n"
     ]
    }
   ],
   "source": [
    "import pandas as pd\n",
    "\n",
    "\n",
    "df_test = pd.read_json(\"hf://datasets/gonglinyuan/CoSQA/cosqa-dev.json\")\n",
    "df_trainval = pd.read_json(\"hf://datasets/gonglinyuan/CoSQA/cosqa-train.json\")\n",
    "\n",
    "print(f\"Train and validation size: {df_trainval.shape} | Test size: {df_test.shape}\")"
   ]
  },
  {
   "cell_type": "code",
   "execution_count": 9,
   "id": "2ef474bc",
   "metadata": {},
   "outputs": [
    {
     "data": {
      "text/html": [
       "<div>\n",
       "<style scoped>\n",
       "    .dataframe tbody tr th:only-of-type {\n",
       "        vertical-align: middle;\n",
       "    }\n",
       "\n",
       "    .dataframe tbody tr th {\n",
       "        vertical-align: top;\n",
       "    }\n",
       "\n",
       "    .dataframe thead th {\n",
       "        text-align: right;\n",
       "    }\n",
       "</style>\n",
       "<table border=\"1\" class=\"dataframe\">\n",
       "  <thead>\n",
       "    <tr style=\"text-align: right;\">\n",
       "      <th></th>\n",
       "      <th>idx</th>\n",
       "      <th>doc</th>\n",
       "      <th>code</th>\n",
       "      <th>code_tokens</th>\n",
       "      <th>docstring_tokens</th>\n",
       "      <th>label</th>\n",
       "    </tr>\n",
       "  </thead>\n",
       "  <tbody>\n",
       "    <tr>\n",
       "      <th>0</th>\n",
       "      <td>cosqa-train-0</td>\n",
       "      <td>python code to write bool value 1</td>\n",
       "      <td>def writeBoolean(self, n):\\n        \"\"\"\\n     ...</td>\n",
       "      <td>def writeBoolean ( self , n ) : t = TYPE_BOOL_...</td>\n",
       "      <td>Writes a Boolean to the stream .</td>\n",
       "      <td>0</td>\n",
       "    </tr>\n",
       "    <tr>\n",
       "      <th>1</th>\n",
       "      <td>cosqa-train-1</td>\n",
       "      <td>\"python how to manipulate clipboard\"</td>\n",
       "      <td>def paste(xsel=False):\\n    \"\"\"Returns system ...</td>\n",
       "      <td>def paste ( xsel = False ) : selection = \"prim...</td>\n",
       "      <td>Returns system clipboard contents .</td>\n",
       "      <td>0</td>\n",
       "    </tr>\n",
       "    <tr>\n",
       "      <th>2</th>\n",
       "      <td>cosqa-train-2</td>\n",
       "      <td>python colored output to html</td>\n",
       "      <td>def _format_json(data, theme):\\n    \"\"\"Pretty ...</td>\n",
       "      <td>def _format_json ( data , theme ) : output = j...</td>\n",
       "      <td>Pretty print a dict as a JSON with colors if p...</td>\n",
       "      <td>0</td>\n",
       "    </tr>\n",
       "    <tr>\n",
       "      <th>3</th>\n",
       "      <td>cosqa-train-3</td>\n",
       "      <td>python \"create directory\" using \"relative path\"</td>\n",
       "      <td>def create_path(path):\\n    \"\"\"Creates a absol...</td>\n",
       "      <td>def create_path ( path ) : import os if not os...</td>\n",
       "      <td>Creates a absolute path in the file system .</td>\n",
       "      <td>0</td>\n",
       "    </tr>\n",
       "    <tr>\n",
       "      <th>4</th>\n",
       "      <td>cosqa-train-4</td>\n",
       "      <td>python column of an array</td>\n",
       "      <td>def _vector_or_scalar(x, type='row'):\\n    \"\"\"...</td>\n",
       "      <td>def _vector_or_scalar ( x , type = 'row' ) : i...</td>\n",
       "      <td>Convert an object to either a scalar or a row ...</td>\n",
       "      <td>0</td>\n",
       "    </tr>\n",
       "  </tbody>\n",
       "</table>\n",
       "</div>"
      ],
      "text/plain": [
       "             idx                                              doc  \\\n",
       "0  cosqa-train-0                python code to write bool value 1   \n",
       "1  cosqa-train-1             \"python how to manipulate clipboard\"   \n",
       "2  cosqa-train-2                    python colored output to html   \n",
       "3  cosqa-train-3  python \"create directory\" using \"relative path\"   \n",
       "4  cosqa-train-4                        python column of an array   \n",
       "\n",
       "                                                code  \\\n",
       "0  def writeBoolean(self, n):\\n        \"\"\"\\n     ...   \n",
       "1  def paste(xsel=False):\\n    \"\"\"Returns system ...   \n",
       "2  def _format_json(data, theme):\\n    \"\"\"Pretty ...   \n",
       "3  def create_path(path):\\n    \"\"\"Creates a absol...   \n",
       "4  def _vector_or_scalar(x, type='row'):\\n    \"\"\"...   \n",
       "\n",
       "                                         code_tokens  \\\n",
       "0  def writeBoolean ( self , n ) : t = TYPE_BOOL_...   \n",
       "1  def paste ( xsel = False ) : selection = \"prim...   \n",
       "2  def _format_json ( data , theme ) : output = j...   \n",
       "3  def create_path ( path ) : import os if not os...   \n",
       "4  def _vector_or_scalar ( x , type = 'row' ) : i...   \n",
       "\n",
       "                                    docstring_tokens  label  \n",
       "0                   Writes a Boolean to the stream .      0  \n",
       "1                Returns system clipboard contents .      0  \n",
       "2  Pretty print a dict as a JSON with colors if p...      0  \n",
       "3       Creates a absolute path in the file system .      0  \n",
       "4  Convert an object to either a scalar or a row ...      0  "
      ]
     },
     "execution_count": 9,
     "metadata": {},
     "output_type": "execute_result"
    }
   ],
   "source": [
    "df_trainval.head(5)"
   ]
  },
  {
   "cell_type": "code",
   "execution_count": 2,
   "id": "b42dc917",
   "metadata": {},
   "outputs": [
    {
     "data": {
      "text/plain": [
       "idx                 20000\n",
       "doc                 20000\n",
       "code                 6184\n",
       "code_tokens          6184\n",
       "docstring_tokens     6081\n",
       "label                   2\n",
       "dtype: int64"
      ]
     },
     "execution_count": 2,
     "metadata": {},
     "output_type": "execute_result"
    }
   ],
   "source": [
    "df_trainval.nunique()"
   ]
  },
  {
   "cell_type": "markdown",
   "id": "f9daa775",
   "metadata": {},
   "source": [
    "There is less code then doc unique values. So some code is repeated among some queries. Not handling this might affect results of this task"
   ]
  },
  {
   "cell_type": "code",
   "execution_count": 10,
   "id": "159d65c3",
   "metadata": {},
   "outputs": [
    {
     "name": "stdout",
     "output_type": "stream",
     "text": [
      "13816\n",
      "0\n",
      "idx                 0\n",
      "doc                 0\n",
      "code                0\n",
      "code_tokens         0\n",
      "docstring_tokens    0\n",
      "label               0\n",
      "dtype: int64\n"
     ]
    }
   ],
   "source": [
    "df = df_trainval\n",
    "print(df['code'].duplicated().sum())\n",
    "print(df['doc'].duplicated().sum())\n",
    "print(df.isnull().sum())"
   ]
  },
  {
   "cell_type": "markdown",
   "id": "d128d7fa",
   "metadata": {},
   "source": [
    "There are not NaN values that need to be handled"
   ]
  },
  {
   "cell_type": "code",
   "execution_count": null,
   "id": "ea4ecd4d",
   "metadata": {},
   "outputs": [
    {
     "data": {
      "text/plain": [
       "label\n",
       "0    51.465\n",
       "1    48.535\n",
       "Name: proportion, dtype: float64"
      ]
     },
     "execution_count": 6,
     "metadata": {},
     "output_type": "execute_result"
    }
   ],
   "source": [
    "df['label'].value_counts(normalize=True)*100 # percentage of each label"
   ]
  },
  {
   "cell_type": "markdown",
   "id": "96865b6e",
   "metadata": {},
   "source": [
    "Labels are pretty balanced. Following lines will show some more insights into the data."
   ]
  },
  {
   "cell_type": "code",
   "execution_count": 17,
   "id": "42646069",
   "metadata": {},
   "outputs": [
    {
     "data": {
      "text/plain": [
       "count    20000.000000\n",
       "mean        37.122950\n",
       "std         10.208856\n",
       "min         16.000000\n",
       "25%         30.000000\n",
       "50%         35.000000\n",
       "75%         43.000000\n",
       "max         98.000000\n",
       "Name: doc_len, dtype: float64"
      ]
     },
     "execution_count": 17,
     "metadata": {},
     "output_type": "execute_result"
    }
   ],
   "source": [
    "df['doc_len'] = df['doc'].apply(len)\n",
    "df['doc_len'].describe()"
   ]
  },
  {
   "cell_type": "code",
   "execution_count": 16,
   "id": "83b608d1",
   "metadata": {},
   "outputs": [
    {
     "data": {
      "text/plain": [
       "count    20000.000000\n",
       "mean       276.340200\n",
       "std        179.323344\n",
       "min         87.000000\n",
       "25%        184.000000\n",
       "50%        236.000000\n",
       "75%        322.000000\n",
       "max       6395.000000\n",
       "Name: code_len, dtype: float64"
      ]
     },
     "execution_count": 16,
     "metadata": {},
     "output_type": "execute_result"
    }
   ],
   "source": [
    "df['code_len'] = df['code'].apply(len)\n",
    "df['code_len'].describe()"
   ]
  },
  {
   "cell_type": "code",
   "execution_count": 18,
   "id": "9d958b80",
   "metadata": {},
   "outputs": [
    {
     "data": {
      "text/plain": [
       "code\n",
       "def _check_whitespace(string):\\n    \"\"\"\\n    Make sure thre is no whitespace in the given string. Will raise a\\n    ValueError if whitespace is detected\\n    \"\"\"\\n    if string.count(' ') + string.count('\\t') + string.count('\\n') > 0:\\n        raise ValueError(INSTRUCTION_HAS_WHITESPACE)                                                                                                                                                               20\n",
       "def _duplicates(list_):\\n    \"\"\"Return dict mapping item -> indices.\"\"\"\\n    item_indices = {}\\n    for i, item in enumerate(list_):\\n        try:\\n            item_indices[item].append(i)\\n        except KeyError:  # First time seen\\n            item_indices[item] = [i]\\n    return item_indices                                                                                                                                                       20\n",
       "def most_significant_bit(lst: np.ndarray) -> int:\\n    \"\"\"\\n    A helper function that finds the position of the most significant bit in a 1darray of 1s and 0s,\\n    i.e. the first position where a 1 appears, reading left to right.\\n\\n    :param lst: a 1d array of 0s and 1s with at least one 1\\n    :return: the first position in lst that a 1 appears\\n    \"\"\"\\n    return np.argwhere(np.asarray(lst) == 1)[0][0]                                   20\n",
       "def iter_lines(file_like: Iterable[str]) -> Generator[str, None, None]:\\n    \"\"\" Helper for iterating only nonempty lines without line breaks\"\"\"\\n    for line in file_like:\\n        line = line.rstrip('\\r\\n')\\n        if line:\\n            yield line                                                                                                                                                                                                     20\n",
       "def get_column_names(engine: Engine, tablename: str) -> List[str]:\\n    \"\"\"\\n    Get all the database column names for the specified table.\\n    \"\"\"\\n    return [info.name for info in gen_columns_info(engine, tablename)]                                                                                                                                                                                                                                   20\n",
       "def is_not_null(df: DataFrame, col_name: str) -> bool:\\n    \"\"\"\\n    Return ``True`` if the given DataFrame has a column of the given\\n    name (string), and there exists at least one non-NaN value in that\\n    column; return ``False`` otherwise.\\n    \"\"\"\\n    if (\\n        isinstance(df, pd.DataFrame)\\n        and col_name in df.columns\\n        and df[col_name].notnull().any()\\n    ):\\n        return True\\n    else:\\n        return False    19\n",
       "def inverted_dict(d):\\n    \"\"\"Return a dict with swapped keys and values\\n\\n    >>> inverted_dict({0: ('a', 'b'), 1: 'cd'}) == {'cd': 1, ('a', 'b'): 0}\\n    True\\n    \"\"\"\\n    return dict((force_hashable(v), k) for (k, v) in viewitems(dict(d)))                                                                                                                                                                                                           19\n",
       "def _(f, x):\\n    \"\"\"\\n    filter for dict, note `f` should have signature: `f::key->value->bool`\\n    \"\"\"\\n    return {k: v for k, v in x.items() if f(k, v)}                                                                                                                                                                                                                                                                                                 19\n",
       "def split(text: str) -> List[str]:\\n    \"\"\"Split a text into a list of tokens.\\n\\n    :param text: the text to split\\n    :return: tokens\\n    \"\"\"\\n    return [word for word in SEPARATOR.split(text) if word.strip(' \\t')]                                                                                                                                                                                                                                   19\n",
       "def snake_to_camel(s: str) -> str:\\n    \"\"\"Convert string from snake case to camel case.\"\"\"\\n\\n    fragments = s.split('_')\\n\\n    return fragments[0] + ''.join(x.title() for x in fragments[1:])                                                                                                                                                                                                                                                             19\n",
       "Name: doc, dtype: int64"
      ]
     },
     "execution_count": 18,
     "metadata": {},
     "output_type": "execute_result"
    }
   ],
   "source": [
    "df.groupby('code')['doc'].nunique().sort_values(ascending=False).head(10)"
   ]
  },
  {
   "cell_type": "code",
   "execution_count": 19,
   "id": "a6b9fb68",
   "metadata": {},
   "outputs": [
    {
     "data": {
      "image/png": "[encoded data removed]",
      "text/plain": [
       "<Figure size 640x480 with 1 Axes>"
      ]
     },
     "metadata": {},
     "output_type": "display_data"
    },
    {
     "data": {
      "image/png": "[encoded data removed]",
      "text/plain": [
       "<Figure size 640x480 with 1 Axes>"
      ]
     },
     "metadata": {},
     "output_type": "display_data"
    }
   ],
   "source": [
    "import matplotlib.pyplot as plt\n",
    "import seaborn as sns\n",
    "\n",
    "sns.histplot(df['doc_len'], bins=50)\n",
    "plt.show()\n",
    "\n",
    "sns.histplot(df['code_len'], bins=50)\n",
    "plt.show()"
   ]
  },
  {
   "cell_type": "code",
   "execution_count": 2,
   "id": "1cd077d3",
   "metadata": {},
   "outputs": [
    {
     "name": "stdout",
     "output_type": "stream",
     "text": [
      "Code overlap: 469\n"
     ]
    }
   ],
   "source": [
    "overlap = len(set(df_trainval['code']).intersection(set(df_test['code'])))\n",
    "print(\"Code overlap:\", overlap)"
   ]
  },
  {
   "cell_type": "markdown",
   "id": "c1343694",
   "metadata": {},
   "source": [
    "In this task this is not considered as leakage since task is not a data generation but retrival. I needed to check since initial Recall@10 is unexpectedly high. Probably because, the CoSQA test set is designed as a **retrieval matching task** where:\n",
    "- Each natural language query maps to ONE code snippet\n",
    "- The model needs to find that single match among 552 options\n",
    "- Generic embeddings already do well because the search space is small\n",
    "\n",
    "In fine tuning goal should be to increase other metrics"
   ]
  }
 ],
 "metadata": {
  "kernelspec": {
   "display_name": ".venv",
   "language": "python",
   "name": "python3"
  },
  "language_info": {
   "codemirror_mode": {
    "name": "ipython",
    "version": 3
   },
   "file_extension": ".py",
   "mimetype": "text/x-python",
   "name": "python",
   "nbconvert_exporter": "python",
   "pygments_lexer": "ipython3",
   "version": "3.12.4"
  }
 },
 "nbformat": 4,
 "nbformat_minor": 5
}
